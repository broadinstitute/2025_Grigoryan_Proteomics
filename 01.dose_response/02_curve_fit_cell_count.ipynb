{
 "cells": [
  {
   "cell_type": "markdown",
   "metadata": {},
   "source": [
    "## Curve fiting of Cell Painting by Dose "
   ]
  },
  {
   "cell_type": "markdown",
   "metadata": {},
   "source": [
    "In order to start plotting the curves, we made some modifications to the dose values:  \n",
    "\n",
    "- we transformed the doses to a logarithmic scale: `dose_log <- log10(dose)`  \n",
    "- we set the dose spacing to 1: `dose_spacing = 1`  \n",
    "- we shifted the dose values to ensure all were positive:  \n",
    "  `dose_shift = abs(min(dose_log)) + dose_spacing`  \n",
    "- finally, we applied the shift: `dose_log_shifted <- dose_log + dose_shift`  \n",
    "\n",
    "We then used the **fastbmdR** package on our **norm_signal** data, after filtering out proteins that had 100% missing values."
   ]
  },
  {
   "cell_type": "code",
   "execution_count": 1,
   "metadata": {
    "vscode": {
     "languageId": "r"
    }
   },
   "outputs": [
    {
     "name": "stderr",
     "output_type": "stream",
     "text": [
      "Using GitHub PAT from the git credential store.\n",
      "\n",
      "Skipping install of 'fastbmdR' from a github remote, the SHA1 (b3681861) has not changed since last install.\n",
      "  Use `force = TRUE` to force installation\n",
      "\n"
     ]
    }
   ],
   "source": [
    "#\n",
    "library(ggplot2)\n",
    "\n",
    "#install.packages(\"drc\", dependencies = TRUE)\n",
    "\n",
    "devtools::install_github(\"jessica-ewald/fastbmdR\")\n"
   ]
  },
  {
   "cell_type": "code",
   "execution_count": null,
   "metadata": {
    "vscode": {
     "languageId": "r"
    }
   },
   "outputs": [],
   "source": [
    "library(fastbmdR)\n",
    "library(dplyr)\n",
    "library(knitr)"
   ]
  },
  {
   "cell_type": "markdown",
   "metadata": {},
   "source": [
    "## Cell Count From CP data"
   ]
  },
  {
   "cell_type": "markdown",
   "metadata": {},
   "source": [
    "We add the count cell columns from CP data to the proteomic data according to the plate number and compound well. "
   ]
  },
  {
   "cell_type": "code",
   "execution_count": null,
   "metadata": {
    "vscode": {
     "languageId": "r"
    }
   },
   "outputs": [],
   "source": [
    "library(arrow)\n",
    "library(dplyr)\n",
    "\n",
    "raw_data <- read_parquet(\"../00.exploratory_analysis/inputs/CP_data/raw.parquet\")\n",
    "\n",
    "raw_data <- raw_data %>% \n",
    "  filter(Metadata_BROAD_ID != \"EMPTY\")\n",
    "\n",
    "raw_data <- raw_data %>%\n",
    "  mutate(\n",
    "    `Metadata_Compound Name` = ifelse(Metadata_BROAD_ID == \"DMSO\", \"DMSO\", `Metadata_Compound Name`),\n",
    "    Metadata_Annotation = ifelse(Metadata_BROAD_ID == \"DMSO\", \"DMSO\", Metadata_Annotation),\n",
    "    `Metadata_Compound Name` = ifelse(Metadata_BROAD_ID == \"EMPTY\", \"EMPTY\", `Metadata_Compound Name`),\n",
    "    Metadata_Annotation = ifelse(Metadata_BROAD_ID == \"EMPTY\", \"no treatment\", Metadata_Annotation)\n",
    "  )\n",
    "\n",
    "selected_data <- raw_data %>%\n",
    "  select('Metadata_Well', 'Metadata_Count_Cells', 'Metadata_plate_map_name')"
   ]
  },
  {
   "cell_type": "code",
   "execution_count": 2,
   "metadata": {
    "vscode": {
     "languageId": "r"
    }
   },
   "outputs": [
    {
     "data": {
      "text/html": [
       "0"
      ],
      "text/latex": [
       "0"
      ],
      "text/markdown": [
       "0"
      ],
      "text/plain": [
       "[1] 0"
      ]
     },
     "metadata": {},
     "output_type": "display_data"
    }
   ],
   "source": [
    "# we add the cell count from CP data to Proteiomic imputed data + the probability of the RF classification\n",
    "\n",
    "## all done no need to re-run this code just read the data df_CC_Proba.csv\n",
    "\n",
    "\n",
    "df <- read.csv(\"../00.exploratory_analysis/outputs/norm_signal_filtered.csv\", sep= ',')\n",
    "\n",
    "df_pred <- read.csv(\"./outputs/df_pred.csv\", sep= ',')\n",
    "\n",
    "\n",
    "df <- df %>%\n",
    "  mutate(Metadata_plate_map_name = case_when(\n",
    "    Metadata_Plate == \"BR00145683\" ~ \"BR00145695\",\n",
    "    Metadata_Plate == \"BR00145686\" ~ \"BR00145692\",\n",
    "    TRUE ~ Metadata_Plate \n",
    "  ))\n",
    "\n",
    "\n",
    "df <- df %>%\n",
    "  left_join(selected_data, \n",
    "            by = c(\"Metadata_Well\" = \"Metadata_Well\", \n",
    "                   \"Metadata_plate_map_name\" = \"Metadata_plate_map_name\"))\n",
    "\n",
    "\n",
    "df <- merge(df, df_pred[, c(\"Metadata_Well\", \"Metadata_plate_map_name\", \"Probability\")], \n",
    "            by = c(\"Metadata_Well\", \"Metadata_plate_map_name\"),\n",
    "            all.x = TRUE)\n",
    "\n",
    "# Replacing the missing values probability with 0 from Jump controls and DMSO\n",
    "\n",
    "df$Probability[is.na(df$Probability)] <- 0\n",
    "\n",
    "sum(is.na(df$Probability))\n",
    "\n",
    "#write.csv(df, file = \"./outputs/df_CC_Proba.csv\", row.names = FALSE)"
   ]
  },
  {
   "cell_type": "code",
   "execution_count": 118,
   "metadata": {
    "vscode": {
     "languageId": "r"
    }
   },
   "outputs": [
    {
     "name": "stdout",
     "output_type": "stream",
     "text": [
      "          Metadata_Compound RF_prob Metadata_Concentration  CC0\n",
      "1                 LY2109761    0.00                  5.100 1570\n",
      "3                Cladribine    0.50                  1.235 3059\n",
      "4             Actinomycin D    0.61                300.000 1914\n",
      "5              Treprostinil    0.55                  3.704 3355\n",
      "6                 Bevirimat    0.61                  3.704 4112\n",
      "7 Aminodarone Hydrochloride    0.51                  0.154 3784\n"
     ]
    }
   ],
   "source": [
    "#df <- read.csv(\"./outputs/df_CC_Proba.csv\", sep= ',')\n",
    "\n",
    "\n",
    "# we keep only the columns of interest\n",
    "\n",
    "df_cc <- df[, c(\"Metadata_Compound\", 'Probability', \"Metadata_Concentration\", \"Metadata_Count_Cells\")]\n",
    "\n",
    "\n",
    "df_cc <- df_cc[df_cc$Metadata_Compound != \"UNTREATED\", ]\n",
    "\n",
    "\n",
    "df_cc <- df_cc %>%\n",
    "  rename(\n",
    "    CC0 = Metadata_Count_Cells,\n",
    "    RF_prob= Probability\n",
    "  )\n",
    "\n",
    "\n",
    "print(head(df_cc))\n"
   ]
  },
  {
   "cell_type": "markdown",
   "metadata": {},
   "source": [
    "### Curves of all compounds : Cell Count  vs Dose"
   ]
  },
  {
   "cell_type": "code",
   "execution_count": null,
   "metadata": {
    "vscode": {
     "languageId": "r"
    }
   },
   "outputs": [],
   "source": [
    "models <- c(\"Exp2\", \"Exp3\", \"Exp4\", \"Exp5\", \"Poly2\", \"Lin\", \"Power\", \"Hill\")\n",
    "\n",
    "ncpus <- 1  \n",
    "\n",
    "unique_compounds <- unique(df_cc$Metadata_Compound)\n",
    "\n",
    "feat_cols = colnames(df_cc)[!grepl(\"Metadata\", colnames(df_cc))]\n",
    "\n",
    "\n",
    "res = list()\n",
    "gene_table <- list()\n",
    "\n",
    "all_bmd_pass <- data.frame()\n",
    "results_df <- data.frame()\n",
    "\n",
    "for (compound in unique_compounds) {\n",
    "\n",
    "    compound_data <- df_cc[df_cc$Metadata_Compound %in% c(compound, \"DMSO\"), ]\n",
    "    dose <- compound_data$Metadata_Concentration\n",
    "    dose_log <- dose\n",
    "    dose_log[dose_log > 0] <- log10(dose_log[dose_log > 0])\n",
    "\n",
    "    rank_dose <- unique(dose) %>% sort(decreasing = TRUE)\n",
    "    dose_spacing <- abs(log10(rank_dose[2] / rank_dose[1]))\n",
    "    dose_shift <- abs(min(dose_log)) + dose_spacing\n",
    "\n",
    "    dose_shifted <- dose_log\n",
    "    dose_shifted[dose_shifted != 0] <- dose_shifted[dose_shifted != 0] + dose_shift\n",
    "\n",
    "    if (length(unique(compound_data$Metadata_Concentration)) > 2) {\n",
    "        #cat(\"Processing compound:\", compound, \"\\n\")\n",
    "\n",
    "        mat <- t(compound_data[, feat_cols])\n",
    "        min_val <- abs(min(mat, na.rm = TRUE))\n",
    "        mat_shifted <- mat + min_val + 0.1 * min_val\n",
    "\n",
    "        if (length(dose_shifted) == ncol(mat_shifted)) {\n",
    "            cat(\"Processing compound:\", compound, \"\\n\")\n",
    "            tryCatch({\n",
    "                \n",
    "                fit <- PerformCurveFitting(data = mat_shifted, dose = dose_shifted, ncpus = ncpus, models = models)\n",
    "                fit_filtered <- FilterDRFit(fit, lof.pval = 0.1, filt.var = \"AIC.model\")\n",
    "                fit_final <- PerformBMDCalc(fit_filtered, ncpus = ncpus, num.sds = 2, bmr.method = \"sample.mean\", log10.dose = TRUE)\n",
    "\n",
    "              \n",
    "                bmd_pass <- fit_final$bmd_res\n",
    "                bmd_pass <- bmd_pass[bmd_pass$gene.id== 'CC0', ]\n",
    "            \n",
    "                plot_data <- plot_bmd_curve('CC0', fit_final, return_type = \"plot.data\")\n",
    "                plot_data$compound_name <- compound\n",
    "        \n",
    "                bmd_pass_valid <- bmd_pass[bmd_pass$all.pass == TRUE, c(\"bmd\", \"bmdl\", \"bmdu\")]\n",
    "      \n",
    "                for (i in 1:nrow(bmd_pass_valid)) {\n",
    "                    plot_data$bmd <- bmd_pass_valid$bmd[i]\n",
    "                    plot_data$bmd_l <- bmd_pass_valid$bmdl[i]\n",
    "                    plot_data$bmd_u <- bmd_pass_valid$bmdu[i]\n",
    "\n",
    "        \n",
    "                    results_df <- rbind(results_df, plot_data)\n",
    "                }\n",
    "\n",
    "            }, error = function(e) {\n",
    "           \n",
    "                message(sprintf(\"Error with compound %s: %s\", compound, e$message))\n",
    "            })\n",
    "        }\n",
    "    }\n",
    "}\n",
    "\n",
    "# Afficher les premiers résultats de results_df\n",
    "print(head(resultss_df))\n"
   ]
  },
  {
   "cell_type": "code",
   "execution_count": 135,
   "metadata": {
    "vscode": {
     "languageId": "r"
    }
   },
   "outputs": [
    {
     "name": "stderr",
     "output_type": "stream",
     "text": [
      "Warning message:\n",
      "\"\u001b[1m\u001b[22mRemoved 2450 rows containing missing values or values outside the scale range\n",
      "(`geom_point()`).\"\n",
      "Warning message:\n",
      "\"\u001b[1m\u001b[22mRemoved 4186 rows containing missing values or values outside the scale range\n",
      "(`geom_vline()`).\"\n",
      "Warning message:\n",
      "\"\u001b[1m\u001b[22mRemoved 4186 rows containing missing values or values outside the scale range\n",
      "(`geom_vline()`).\"\n",
      "Warning message:\n",
      "\"\u001b[1m\u001b[22mRemoved 4186 rows containing missing values or values outside the scale range\n",
      "(`geom_vline()`).\"\n",
      "Warning message:\n",
      "\"\u001b[1m\u001b[22mRemoved 2450 rows containing missing values or values outside the scale range\n",
      "(`geom_point()`).\"\n",
      "Warning message:\n",
      "\"\u001b[1m\u001b[22mRemoved 4186 rows containing missing values or values outside the scale range\n",
      "(`geom_vline()`).\"\n",
      "Warning message:\n",
      "\"\u001b[1m\u001b[22mRemoved 4186 rows containing missing values or values outside the scale range\n",
      "(`geom_vline()`).\"\n",
      "Warning message:\n",
      "\"\u001b[1m\u001b[22mRemoved 4186 rows containing missing values or values outside the scale range\n",
      "(`geom_vline()`).\"\n",
      "Warning message:\n",
      "\"\u001b[1m\u001b[22mRemoved 2450 rows containing missing values or values outside the scale range\n",
      "(`geom_point()`).\"\n",
      "Warning message:\n",
      "\"\u001b[1m\u001b[22mRemoved 4186 rows containing missing values or values outside the scale range\n",
      "(`geom_vline()`).\"\n",
      "Warning message:\n",
      "\"\u001b[1m\u001b[22mRemoved 4186 rows containing missing values or values outside the scale range\n",
      "(`geom_vline()`).\"\n",
      "Warning message:\n",
      "\"\u001b[1m\u001b[22mRemoved 4186 rows containing missing values or values outside the scale range\n",
      "(`geom_vline()`).\"\n"
     ]
    },
    {
     "data": {
      "text/html": [
       "<strong>pdf:</strong> 2"
      ],
      "text/latex": [
       "\\textbf{pdf:} 2"
      ],
      "text/markdown": [
       "**pdf:** 2"
      ],
      "text/plain": [
       "pdf \n",
       "  2 "
      ]
     },
     "metadata": {},
     "output_type": "display_data"
    }
   ],
   "source": [
    "n_per_page <- 9  \n",
    "\n",
    "\n",
    "plot_groups_CC0 <- unique(results_df$compound_name)\n",
    "n_pages_CC0 <- ceiling(length(plot_groups_CC0) / n_per_page)\n",
    "\n",
    "\n",
    "pdf_file_CC0 <- \"./outputs/cc0_bmd_curves_all.pdf\"\n",
    "pdf(pdf_file_CC0, width = 15, height = 10)\n",
    "\n",
    "for (i in 1:n_pages_CC0) {\n",
    "  tryCatch({\n",
    "    p <- ggplot(results_df, aes(x = x, y = Observations)) +\n",
    "      geom_point(show.legend = FALSE) +\n",
    "      geom_line(aes(y = f_x), show.legend = FALSE) +\n",
    "      geom_vline(aes(xintercept = bmd), linetype = \"solid\", color = \"red\") +  \n",
    "      geom_vline(aes(xintercept = bmd_l), linetype = \"dashed\", color = \"red\") + \n",
    "      geom_vline(aes(xintercept = bmd_u), linetype = \"dashed\", color = \"red\") +  \n",
    "      facet_wrap_paginate(~compound_name, ncol = 3, nrow = 3, page = i, scales = \"free_y\") +\n",
    "      labs(title = sprintf(\"BMD curves - CC0 - Page %d\", i),\n",
    "           x = \"Concentration\",\n",
    "           y = \"Observation\") +\n",
    "      theme_bw() +\n",
    "      theme(strip.text = element_text(size = 8))\n",
    "    \n",
    "    print(p) \n",
    "  }, error = function(e) {\n",
    "    message(sprintf(\"Error in the page %d : %s\", i, e$message))\n",
    "  })\n",
    "}\n",
    "\n",
    "dev.off()"
   ]
  },
  {
   "cell_type": "markdown",
   "metadata": {},
   "source": [
    "### Curves only of valid compounds having BMD values of cell count and RF classification"
   ]
  },
  {
   "cell_type": "code",
   "execution_count": null,
   "metadata": {
    "vscode": {
     "languageId": "r"
    }
   },
   "outputs": [],
   "source": [
    "models <- c(\"Exp2\", \"Exp3\", \"Exp4\", \"Exp5\", \"Poly2\", \"Lin\", \"Power\", \"Hill\")\n",
    "\n",
    "ncpus <- 1  \n",
    "\n",
    "unique_compounds <- unique(df_cc$Metadata_Compound)\n",
    "\n",
    "feat_cols = colnames(df_cc)[!grepl(\"Metadata\", colnames(df_cc))]\n",
    "\n",
    "\n",
    "res = list()\n",
    "gene_table <- list()\n",
    "\n",
    "all_bmd_pass <- data.frame()\n",
    "\n",
    "for (compound in unique_compounds) {\n",
    "  \n",
    "  compound_data <- df_cc[df_cc$Metadata_Compound %in% c(compound, \"DMSO\"), ]\n",
    "  \n",
    "  dose <- compound_data$Metadata_Concentration\n",
    "  dose_log <- dose\n",
    "  dose_log[dose_log > 0] <- log10(dose_log[dose_log > 0])\n",
    "  \n",
    "  rank_dose = unique(dose) %>% sort(. , decreasing = TRUE)\n",
    "  dose_spacing = abs(log10(rank_dose[2]/rank_dose[1]))\n",
    "  \n",
    "  dose_shift = abs(min(dose_log)) + dose_spacing\n",
    "  dose_shifted = dose_log\n",
    "  dose_shifted[dose_shifted != 0] = dose_shifted[dose_shifted != 0] + dose_shift\n",
    "  \n",
    "  if (length(unique(compound_data$Metadata_Concentration)) > 2) {  \n",
    "    \n",
    "    print(paste(\"Processing compound:\", compound))  \n",
    "    dose <- dose_shifted\n",
    "    \n",
    "    compound_mat <- t(compound_data[, feat_cols])  \n",
    "    min_val = abs(min(compound_mat, na.rm=TRUE))  \n",
    "    add_min = min_val + 0.1 * min_val  \n",
    "    mat_new = compound_mat + add_min  \n",
    "    \n",
    "    if (length(dose) == ncol(mat_new)) {  \n",
    "      tryCatch({\n",
    "        fit_obj <- PerformCurveFitting(data = mat_new, dose = dose, ncpus = ncpus, models = models)\n",
    "        fit_obj <- FilterDRFit(fit_obj, lof.pval = 0.1, filt.var = \"AIC.model\")\n",
    "        fit_obj <- PerformBMDCalc(fit_obj, ncpus = ncpus, num.sds = 2, bmr.method = \"sample.mean\", log10.dose = TRUE)\n",
    "        \n",
    "        bmd_res <- fit_obj$bmd_res\n",
    "        bmd_pass <- bmd_res[bmd_res$all.pass, ]\n",
    "        fit_obj$bmd_pass <- bmd_pass\n",
    "\n",
    "        res[[compound]] = fit_obj\n",
    "        \n",
    "        if (nrow(bmd_pass) > 0) {\n",
    "          bmd_pass$compound_name <- compound\n",
    "          all_bmd_pass <- rbind(all_bmd_pass, bmd_pass) \n",
    "        }\n",
    "      }, error = function(e) {\n",
    "        print(paste(\"Error with compound:\", compound, \"- ignoring this compound\"))\n",
    "      })\n",
    "    }\n",
    "  }  \n",
    "}\n",
    "\n",
    "\n"
   ]
  },
  {
   "cell_type": "code",
   "execution_count": null,
   "metadata": {
    "vscode": {
     "languageId": "r"
    }
   },
   "outputs": [],
   "source": [
    "list_plot <- list()\n",
    "\n",
    "for (i in 1:nrow(all_bmd_pass)) {\n",
    "  tryCatch({\n",
    "    gene_id <- all_bmd_pass$gene.id[i]\n",
    "    compound <- all_bmd_pass$compound_name[i]\n",
    "\n",
    "    temp <- plot_bmd_curve(gene_id, res[[compound]], return_type = \"plot.data\")\n",
    "\n",
    "    temp$protein   <- gene_id\n",
    "    temp$compound  <- compound\n",
    "    #temp$category  <-\n",
    "    temp$bmd       <- all_bmd_pass$bmd[i]\n",
    "    temp$bmd_l     <- all_bmd_pass$bmdl[i]\n",
    "    temp$bmd_u     <- all_bmd_pass$bmdu[i]\n",
    "    \n",
    "    list_plot[[i]] <- temp\n",
    "  }, error = function(e) {\n",
    "    message(sprintf(\"Erreur pour gene_id %s et compound %s : %s\", gene_id, compound, e$message))\n",
    "  })\n",
    "}\n",
    "\n",
    "final_df <- do.call(rbind, list_plot)\n",
    "\n",
    "print(final_df)"
   ]
  },
  {
   "cell_type": "code",
   "execution_count": 33,
   "metadata": {
    "vscode": {
     "languageId": "r"
    }
   },
   "outputs": [],
   "source": [
    "## calculating the bmd values at real concentration\n",
    "\n",
    "final_df$Concentration <- NA\n",
    "final_df$Concentration_L <- NA\n",
    "final_df$Concentration_U <- NA\n",
    "\n",
    "for (i in 1:nrow(final_df)) {\n",
    "  compound <- final_df$compound[i]\n",
    "  bmd <- final_df$bmd[i]\n",
    "  bmdl <- final_df$bmd_l[i]\n",
    "  bmdu <- final_df$bmd_u[i]\n",
    "\n",
    "  compound_data <- df[df$Metadata_Compound == compound, ]\n",
    "  dose <- compound_data$Metadata_Concentration\n",
    "\n",
    "  dose_log <- dose\n",
    "  dose_log[dose_log > 0] <- log10(dose_log[dose_log > 0])\n",
    "\n",
    "  rank_dose <- unique(dose) %>% sort(decreasing = TRUE)\n",
    "  dose_spacing <- abs(log10(rank_dose[2] / rank_dose[1]))\n",
    "  \n",
    "  dose_shift <- abs(min(dose_log)) + dose_spacing\n",
    "\n",
    "  final_df$Concentration[i] <- 10^(bmd - dose_shift)\n",
    "  final_df$Concentration_L[i] <- 10^(bmdl - dose_shift)\n",
    "  final_df$Concentration_U[i] <- 10^(bmdu - dose_shift)\n",
    "}"
   ]
  },
  {
   "cell_type": "code",
   "execution_count": null,
   "metadata": {
    "vscode": {
     "languageId": "r"
    }
   },
   "outputs": [
    {
     "name": "stderr",
     "output_type": "stream",
     "text": [
      "Warning message:\n",
      "\"\u001b[1m\u001b[22mRemoved 196 rows containing missing values or values outside the scale range\n",
      "(`geom_point()`).\"\n"
     ]
    },
    {
     "data": {
      "text/html": [
       "<strong>pdf:</strong> 2"
      ],
      "text/latex": [
       "\\textbf{pdf:} 2"
      ],
      "text/markdown": [
       "**pdf:** 2"
      ],
      "text/plain": [
       "pdf \n",
       "  2 "
      ]
     },
     "metadata": {},
     "output_type": "display_data"
    }
   ],
   "source": [
    "## we now plot the bmd curves for each compound and protein and save them in a pdf file\n",
    "\n",
    "\n",
    "library(ggplot2)\n",
    "library(ggforce)\n",
    "\n",
    "# Filtrer les données pour le type de protéine \"CC0\"\n",
    "final_df_CC0 <- final_df[final_df$protein == \"CC0\", ]\n",
    "\n",
    "n_per_page <- 9  \n",
    "\n",
    "final_df_CC0$compound_protein <- paste(final_df_CC0$compound, final_df_CC0$protein, sep = \" - \")\n",
    "\n",
    "plot_groups_CC0 <- unique(final_df_CC0$compound_protein)\n",
    "n_pages_CC0 <- ceiling(length(plot_groups_CC0) / n_per_page)\n",
    "\n",
    "pdf_file_CC0 <- \"./outputs/cc0_bmd_curves.pdf\"\n",
    "pdf(pdf_file_CC0, width = 15, height = 10)\n",
    "\n",
    "for (i in 1:n_pages_CC0) {\n",
    "  tryCatch({\n",
    "    p <- ggplot(final_df_CC0, aes(x = x, y = Observations)) +\n",
    "      geom_point(show.legend = FALSE) +\n",
    "      geom_line(aes(y = f_x), show.legend = FALSE) +\n",
    "      geom_vline(aes(xintercept = bmd), linetype = \"solid\", color = \"red\") +  \n",
    "      geom_vline(aes(xintercept = bmd_l), linetype = \"dashed\", color = \"red\") + \n",
    "      geom_vline(aes(xintercept = bmd_u), linetype = \"dashed\", color = \"red\") +  \n",
    "      facet_wrap_paginate(~ compound_protein, ncol = 3, nrow = 3, page = i, scales = \"free_y\") +\n",
    "      labs(title = sprintf(\"BMD curves - CC0 - Page %d\", i),\n",
    "           x = \"Concentration\",\n",
    "           y = \"Observation\") +\n",
    "      theme_bw() +\n",
    "      theme(strip.text = element_text(size = 8))\n",
    "    \n",
    "    print(p) \n",
    "  }, error = function(e) {\n",
    "    message(sprintf(\"Error in the page %d : %s\", i, e$message))\n",
    "  })\n",
    "}\n",
    "\n",
    "dev.off()\n"
   ]
  },
  {
   "cell_type": "code",
   "execution_count": 34,
   "metadata": {
    "vscode": {
     "languageId": "r"
    }
   },
   "outputs": [
    {
     "name": "stderr",
     "output_type": "stream",
     "text": [
      "Warning message:\n",
      "\"\u001b[1m\u001b[22mRemoved 882 rows containing missing values or values outside the scale range\n",
      "(`geom_point()`).\"\n"
     ]
    },
    {
     "data": {
      "text/html": [
       "<strong>pdf:</strong> 2"
      ],
      "text/latex": [
       "\\textbf{pdf:} 2"
      ],
      "text/markdown": [
       "**pdf:** 2"
      ],
      "text/plain": [
       "pdf \n",
       "  2 "
      ]
     },
     "metadata": {},
     "output_type": "display_data"
    }
   ],
   "source": [
    "# curves of probability of Random Forest classification \n",
    "\n",
    "final_df_RF_prob <- final_df[final_df$protein == \"RF_prob\", ]\n",
    "\n",
    "n_per_page <- 9  \n",
    "\n",
    "final_df_RF_prob$compound_protein <- paste(final_df_RF_prob$compound, final_df_RF_prob$protein, sep = \" - \")\n",
    "\n",
    "plot_groups_RF_prob <- unique(final_df_RF_prob$compound_protein)\n",
    "n_pages_RF_prob <- ceiling(length(plot_groups_RF_prob) / n_per_page)\n",
    "\n",
    "pdf_file_RF_prob <- \"./outputs/RF_prob_bmd_curves.pdf\"\n",
    "pdf(pdf_file_RF_prob, width = 15, height = 10)\n",
    "\n",
    "for (i in 1:n_pages_RF_prob) {\n",
    "  tryCatch({\n",
    "    p <- ggplot(final_df_RF_prob, aes(x = x, y = Observations)) +\n",
    "      geom_point(show.legend = FALSE) +\n",
    "      geom_line(aes(y = f_x), show.legend = FALSE) +\n",
    "      geom_vline(aes(xintercept = bmd), linetype = \"solid\", color = \"red\") +  \n",
    "      geom_vline(aes(xintercept = bmd_l), linetype = \"dashed\", color = \"red\") + \n",
    "      geom_vline(aes(xintercept = bmd_u), linetype = \"dashed\", color = \"red\") +  \n",
    "      facet_wrap_paginate(~ compound_protein, ncol = 3, nrow = 3, page = i, scales = \"free_y\") +\n",
    "      labs(title = sprintf(\"BMD curves - RF_prob - Page %d\", i),\n",
    "           x = \"Concentration\",\n",
    "           y = \"Observation\") +\n",
    "      theme_bw() +\n",
    "      theme(strip.text = element_text(size = 8))\n",
    "    \n",
    "    print(p) \n",
    "  }, error = function(e) {\n",
    "    message(sprintf(\"Error in the page %d : %s\", i, e$message))\n",
    "  })\n",
    "}\n",
    "\n",
    "dev.off()\n"
   ]
  },
  {
   "cell_type": "code",
   "execution_count": 26,
   "metadata": {
    "vscode": {
     "languageId": "r"
    }
   },
   "outputs": [
    {
     "name": "stdout",
     "output_type": "stream",
     "text": [
      "\u001b[90m# A tibble: 2 x 3\u001b[39m\n",
      "  compound   protein mean_concentration\n",
      "  \u001b[3m\u001b[90m<chr>\u001b[39m\u001b[23m      \u001b[3m\u001b[90m<chr>\u001b[39m\u001b[23m                \u001b[3m\u001b[90m<dbl>\u001b[39m\u001b[23m\n",
      "\u001b[90m1\u001b[39m Ethoxyquin CC0                   258.\n",
      "\u001b[90m2\u001b[39m FCCP       CC0                   240.\n"
     ]
    }
   ],
   "source": [
    "## Calculate the mean concentration for each compound\n",
    "\n",
    "\n",
    "compound_summary <- final_df %>%\n",
    "  group_by(compound, protein) %>%\n",
    "  summarise(\n",
    "    mean_concentration = mean(Concentration, na.rm = TRUE),\n",
    "    .groups = \"drop\"\n",
    "  )\n",
    "\n",
    "print(compound_summary)\n"
   ]
  }
 ],
 "metadata": {
  "kernelspec": {
   "display_name": "R",
   "language": "R",
   "name": "ir"
  },
  "language_info": {
   "codemirror_mode": "r",
   "file_extension": ".r",
   "mimetype": "text/x-r-source",
   "name": "R",
   "pygments_lexer": "r",
   "version": "4.4.3"
  }
 },
 "nbformat": 4,
 "nbformat_minor": 2
}
