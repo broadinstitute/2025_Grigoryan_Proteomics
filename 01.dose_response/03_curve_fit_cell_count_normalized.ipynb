{
 "cells": [
  {
   "cell_type": "code",
   "execution_count": null,
   "metadata": {
    "vscode": {
     "languageId": "r"
    }
   },
   "outputs": [],
   "source": [
    "#\n",
    "library(ggplot2)\n",
    "\n",
    "#install.packages(\"drc\", dependencies = TRUE)\n",
    "\n",
    "devtools::install_github(\"jessica-ewald/fastbmdR\")\n",
    "\n",
    "library(fastbmdR)\n",
    "library(dplyr)\n",
    "library(knitr)\n",
    "library(arrow)\n",
    "\n",
    "library(ggplot2)\n",
    "library(ggforce)\n"
   ]
  },
  {
   "cell_type": "markdown",
   "metadata": {},
   "source": [
    "## Normalization of cell count of CP data\n"
   ]
  },
  {
   "cell_type": "code",
   "execution_count": null,
   "metadata": {
    "vscode": {
     "languageId": "r"
    }
   },
   "outputs": [],
   "source": [
    "import pandas as pd\n",
    "from pycytominer import normalize\n",
    "\n",
    "# no need to re run just download the df_CC_Proba file\n",
    "\n",
    "\n",
    "\n",
    "df = pd.read_csv(\"./outputs/df_CC_Proba.csv\")\n",
    "\n",
    "features = [\"Metadata_Count_Cells\"]\n",
    "\n",
    "normalized_list = []\n",
    "\n",
    "for plate, plate_df in df.groupby(\"Metadata_plate_map_name\"):\n",
    "    normalized = normalize(\n",
    "        plate_df,\n",
    "        features=features,\n",
    "        samples=\"Metadata_Compound == 'DMSO'\",\n",
    "        method=\"mad_robustize\"\n",
    "    )\n",
    "\n",
    "    normalized_list.append(normalized)\n",
    "\n",
    "# Fusionner toutes les plaques normalisées\n",
    "normalized_df = pd.concat(normalized_list, ignore_index=True)\n",
    "\n",
    "normalized_df = normalized_df.rename(columns={\n",
    "    'Metadata_Count_Cells_x': 'Metadata_Count_Cells',\n",
    "    'Metadata_Count_Cells_y': 'Metadata_Count_Cells_Normalized'\n",
    "})\n",
    "\n",
    "\n",
    "normalized_df.to_csv(\"./outputs/df_CC_Proba.csv\", index=False)\n"
   ]
  },
  {
   "cell_type": "code",
   "execution_count": 3,
   "metadata": {
    "vscode": {
     "languageId": "r"
    }
   },
   "outputs": [
    {
     "name": "stdout",
     "output_type": "stream",
     "text": [
      "          Metadata_Compound Metadata_Concentration  CC1       CC2\n",
      "1                 LY2109761                  5.100 1570 -6.069453\n",
      "2                Cladribine                  1.235 3059 -3.199977\n",
      "3              Treprostinil                  3.704 3355 -2.629550\n",
      "4 Aminodarone Hydrochloride                  0.154 3784 -1.802817\n",
      "5             Actinomycin D                300.000 1822 -5.583820\n",
      "6                 MUPIROCIN                100.000 3626 -2.107302\n"
     ]
    }
   ],
   "source": [
    "# we keep only the columns of interest\n",
    "\n",
    "df <- read.csv(\"./outputs/df_CC_Proba.csv\", sep= ',')\n",
    "\n",
    "\n",
    "df_cc <- df[,c(\"Metadata_Compound\", \"Metadata_Concentration\", \"Metadata_Count_Cells\", \"Metadata_Count_Cells_Normalized\")]\n",
    "\n",
    "\n",
    "df_cc <- df_cc[df_cc$Metadata_Compound != \"UNTREATED\", ]\n",
    "\n",
    "\n",
    "df_cc <- df_cc %>%\n",
    "  rename(\n",
    "    CC1 = Metadata_Count_Cells,\n",
    "    CC2 = Metadata_Count_Cells_Normalized\n",
    "  )\n",
    "\n",
    "print(head(df_cc))\n"
   ]
  },
  {
   "cell_type": "markdown",
   "metadata": {},
   "source": [
    "### Curves of all compounds : Cell Count  vs Dose"
   ]
  },
  {
   "cell_type": "code",
   "execution_count": 4,
   "metadata": {
    "vscode": {
     "languageId": "r"
    }
   },
   "outputs": [
    {
     "name": "stdout",
     "output_type": "stream",
     "text": [
      "Processing compound: Cladribine \n"
     ]
    },
    {
     "name": "stderr",
     "output_type": "stream",
     "text": [
      "Aucun bmd valide pour Cladribine / CC2\n",
      "\n"
     ]
    },
    {
     "name": "stdout",
     "output_type": "stream",
     "text": [
      "Processing compound: Treprostinil \n"
     ]
    },
    {
     "name": "stderr",
     "output_type": "stream",
     "text": [
      "Aucun bmd valide pour Treprostinil / CC2\n",
      "\n"
     ]
    },
    {
     "name": "stdout",
     "output_type": "stream",
     "text": [
      "Processing compound: Aminodarone Hydrochloride \n"
     ]
    },
    {
     "name": "stderr",
     "output_type": "stream",
     "text": [
      "Aucun bmd valide pour Aminodarone Hydrochloride / CC2\n",
      "\n"
     ]
    },
    {
     "name": "stdout",
     "output_type": "stream",
     "text": [
      "Processing compound: Actinomycin D \n"
     ]
    },
    {
     "name": "stderr",
     "output_type": "stream",
     "text": [
      "Aucun bmd valide pour Actinomycin D / CC2\n",
      "\n"
     ]
    },
    {
     "name": "stdout",
     "output_type": "stream",
     "text": [
      "Processing compound: MUPIROCIN \n"
     ]
    },
    {
     "name": "stderr",
     "output_type": "stream",
     "text": [
      "Aucun bmd valide pour MUPIROCIN / CC2\n",
      "\n"
     ]
    },
    {
     "name": "stdout",
     "output_type": "stream",
     "text": [
      "Processing compound: Staurosporine \n"
     ]
    },
    {
     "name": "stderr",
     "output_type": "stream",
     "text": [
      "Aucun bmd valide pour Staurosporine / CC2\n",
      "\n"
     ]
    },
    {
     "name": "stdout",
     "output_type": "stream",
     "text": [
      "Processing compound: 5,8,11-Eicosatriynoic acid \n"
     ]
    },
    {
     "name": "stderr",
     "output_type": "stream",
     "text": [
      "Pas de donn<U+00E9>es pour gene.id == 'CC2' dans 5,8,11-Eicosatriynoic acid\n",
      "\n"
     ]
    },
    {
     "name": "stdout",
     "output_type": "stream",
     "text": [
      "Processing compound: Lys05 \n"
     ]
    },
    {
     "name": "stderr",
     "output_type": "stream",
     "text": [
      "Aucun bmd valide pour Lys05 / CC2\n",
      "\n"
     ]
    },
    {
     "name": "stdout",
     "output_type": "stream",
     "text": [
      "Processing compound: Nedocromil (sodium salt) \n"
     ]
    },
    {
     "name": "stderr",
     "output_type": "stream",
     "text": [
      "Aucun bmd valide pour Nedocromil (sodium salt) / CC2\n",
      "\n"
     ]
    },
    {
     "name": "stdout",
     "output_type": "stream",
     "text": [
      "Processing compound: Rifampicin \n"
     ]
    },
    {
     "name": "stderr",
     "output_type": "stream",
     "text": [
      "Aucun bmd valide pour Rifampicin / CC2\n",
      "\n"
     ]
    },
    {
     "name": "stdout",
     "output_type": "stream",
     "text": [
      "Processing compound: Amperozide \n"
     ]
    },
    {
     "name": "stderr",
     "output_type": "stream",
     "text": [
      "Aucun bmd valide pour Amperozide / CC2\n",
      "\n"
     ]
    },
    {
     "name": "stdout",
     "output_type": "stream",
     "text": [
      "Processing compound: IOPANOIC ACID \n"
     ]
    },
    {
     "name": "stderr",
     "output_type": "stream",
     "text": [
      "Aucun bmd valide pour IOPANOIC ACID / CC2\n",
      "\n"
     ]
    },
    {
     "name": "stdout",
     "output_type": "stream",
     "text": [
      "Processing compound: Triamcinolone acetonide \n"
     ]
    },
    {
     "name": "stderr",
     "output_type": "stream",
     "text": [
      "Aucun bmd valide pour Triamcinolone acetonide / CC2\n",
      "\n"
     ]
    },
    {
     "name": "stdout",
     "output_type": "stream",
     "text": [
      "Processing compound: Colistin Methanesulfonate (sodium salt) \n",
      "Processing compound: 5,6-benzoflavone \n"
     ]
    },
    {
     "name": "stderr",
     "output_type": "stream",
     "text": [
      "Aucun bmd valide pour 5,6-benzoflavone / CC2\n",
      "\n"
     ]
    },
    {
     "name": "stdout",
     "output_type": "stream",
     "text": [
      "Processing compound: Calcipotriol (hydrate) \n"
     ]
    },
    {
     "name": "stderr",
     "output_type": "stream",
     "text": [
      "Aucun bmd valide pour Calcipotriol (hydrate) / CC2\n",
      "\n"
     ]
    },
    {
     "name": "stdout",
     "output_type": "stream",
     "text": [
      "Processing compound: Cucurbitacin I \n"
     ]
    },
    {
     "name": "stderr",
     "output_type": "stream",
     "text": [
      "Aucun bmd valide pour Cucurbitacin I / CC2\n",
      "\n"
     ]
    },
    {
     "name": "stdout",
     "output_type": "stream",
     "text": [
      "Processing compound: Berberine chloride \n"
     ]
    },
    {
     "name": "stderr",
     "output_type": "stream",
     "text": [
      "Aucun bmd valide pour Berberine chloride / CC2\n",
      "\n"
     ]
    },
    {
     "name": "stdout",
     "output_type": "stream",
     "text": [
      "Processing compound: CLIOQUINOL \n"
     ]
    },
    {
     "name": "stderr",
     "output_type": "stream",
     "text": [
      "Aucun bmd valide pour CLIOQUINOL / CC2\n",
      "\n"
     ]
    },
    {
     "name": "stdout",
     "output_type": "stream",
     "text": [
      "Processing compound: PEMIROLAST POTASSIUM \n"
     ]
    },
    {
     "name": "stderr",
     "output_type": "stream",
     "text": [
      "Aucun bmd valide pour PEMIROLAST POTASSIUM / CC2\n",
      "\n"
     ]
    },
    {
     "name": "stdout",
     "output_type": "stream",
     "text": [
      "Processing compound: FCCP \n",
      "Processing compound: Bevirimat \n"
     ]
    },
    {
     "name": "stderr",
     "output_type": "stream",
     "text": [
      "Aucun bmd valide pour Bevirimat / CC2\n",
      "\n"
     ]
    },
    {
     "name": "stdout",
     "output_type": "stream",
     "text": [
      "Processing compound: Natamycin \n"
     ]
    },
    {
     "name": "stderr",
     "output_type": "stream",
     "text": [
      "Aucun bmd valide pour Natamycin / CC2\n",
      "\n"
     ]
    },
    {
     "name": "stdout",
     "output_type": "stream",
     "text": [
      "Processing compound: Imiquimod \n"
     ]
    },
    {
     "name": "stderr",
     "output_type": "stream",
     "text": [
      "Aucun bmd valide pour Imiquimod / CC2\n",
      "\n"
     ]
    },
    {
     "name": "stdout",
     "output_type": "stream",
     "text": [
      "Processing compound: MILTEFOSINE \n"
     ]
    },
    {
     "name": "stderr",
     "output_type": "stream",
     "text": [
      "Aucun bmd valide pour MILTEFOSINE / CC2\n",
      "\n"
     ]
    },
    {
     "name": "stdout",
     "output_type": "stream",
     "text": [
      "Processing compound: Cycloheximide \n"
     ]
    },
    {
     "name": "stderr",
     "output_type": "stream",
     "text": [
      "Aucun bmd valide pour Cycloheximide / CC2\n",
      "\n"
     ]
    },
    {
     "name": "stdout",
     "output_type": "stream",
     "text": [
      "Processing compound: Fluazinam \n"
     ]
    },
    {
     "name": "stderr",
     "output_type": "stream",
     "text": [
      "Aucun bmd valide pour Fluazinam / CC2\n",
      "\n"
     ]
    },
    {
     "name": "stdout",
     "output_type": "stream",
     "text": [
      "Processing compound: Ethoxyquin \n",
      "  x Observations     f_x                           compound_name      bmd\n",
      "1 0     5.205924 5.14552 Colistin Methanesulfonate (sodium salt) 4.757576\n",
      "2 0     6.302454 5.14552 Colistin Methanesulfonate (sodium salt) 4.757576\n",
      "3 0     5.864998 5.14552 Colistin Methanesulfonate (sodium salt) 4.757576\n",
      "4 0     5.527753 5.14552 Colistin Methanesulfonate (sodium salt) 4.757576\n",
      "5 0     7.784406 5.14552 Colistin Methanesulfonate (sodium salt) 4.757576\n",
      "6 0     4.396536 5.14552 Colistin Methanesulfonate (sodium salt) 4.757576\n",
      "     bmd_l    bmd_u\n",
      "1 4.742565 4.771508\n",
      "2 4.742565 4.771508\n",
      "3 4.742565 4.771508\n",
      "4 4.742565 4.771508\n",
      "5 4.742565 4.771508\n",
      "6 4.742565 4.771508\n"
     ]
    }
   ],
   "source": [
    "models <- c(\"Exp2\", \"Exp3\", \"Exp4\", \"Exp5\", \"Poly2\", \"Lin\", \"Power\", \"Hill\")\n",
    "ncpus <- 1  \n",
    "\n",
    "unique_compounds <- unique(df_cc$Metadata_Compound)\n",
    "feat_cols <- colnames(df_cc)[!grepl(\"Metadata\", colnames(df_cc))]\n",
    "\n",
    "res <- list()\n",
    "gene_table <- list()\n",
    "\n",
    "all_bmd_pass <- data.frame()\n",
    "results_df <- data.frame()\n",
    "\n",
    "for (compound in unique_compounds) {\n",
    "\n",
    "    compound_data <- df_cc[df_cc$Metadata_Compound %in% c(compound, \"DMSO\"), ]\n",
    "    dose <- compound_data$Metadata_Concentration\n",
    "    dose_log <- dose\n",
    "    dose_log[dose_log > 0] <- log10(dose_log[dose_log > 0])\n",
    "\n",
    "    rank_dose <- unique(dose) %>% sort(decreasing = TRUE)\n",
    "    dose_spacing <- abs(log10(rank_dose[2] / rank_dose[1]))\n",
    "    dose_shift <- abs(min(dose_log)) + dose_spacing\n",
    "\n",
    "    dose_shifted <- dose_log\n",
    "    dose_shifted[dose_shifted != 0] <- dose_shifted[dose_shifted != 0] + dose_shift\n",
    "\n",
    "    if (length(unique(compound_data$Metadata_Concentration)) > 2) {\n",
    "\n",
    "        mat <- t(compound_data[, feat_cols])\n",
    "        min_val <- abs(min(mat, na.rm = TRUE))\n",
    "        mat_shifted <- mat + min_val + 0.1 * min_val\n",
    "\n",
    "        if (length(dose_shifted) == ncol(mat_shifted)) {\n",
    "            cat(\"Processing compound:\", compound, \"\\n\")\n",
    "            \n",
    "            tryCatch({\n",
    "                fit <- PerformCurveFitting(data = mat_shifted, dose = dose_shifted, ncpus = ncpus, models = models)\n",
    "                fit_filtered <- FilterDRFit(fit, lof.pval = 0.1, filt.var = \"AIC.model\")\n",
    "                fit_final <- PerformBMDCalc(fit_filtered, ncpus = ncpus, num.sds = 2, bmr.method = \"sample.mean\", log10.dose = TRUE)\n",
    "\n",
    "                bmd_pass <- fit_final$bmd_res\n",
    "                bmd_pass <- bmd_pass[bmd_pass$gene.id == 'CC2', ]\n",
    "\n",
    "                if (nrow(bmd_pass) > 0) {\n",
    "                    bmd_pass_valid <- bmd_pass[bmd_pass$all.pass == TRUE, c(\"bmd\", \"bmdl\", \"bmdu\")]\n",
    "\n",
    "                    if (nrow(bmd_pass_valid) > 0) {\n",
    "                        plot_data <- plot_bmd_curve('CC2', fit_final, return_type = \"plot.data\")\n",
    "                        plot_data$compound_name <- compound\n",
    "\n",
    "                        for (i in 1:nrow(bmd_pass_valid)) {\n",
    "                            plot_data$bmd <- bmd_pass_valid$bmd[i]\n",
    "                            plot_data$bmd_l <- bmd_pass_valid$bmdl[i]\n",
    "                            plot_data$bmd_u <- bmd_pass_valid$bmdu[i]\n",
    "\n",
    "                            results_df <- rbind(results_df, plot_data)\n",
    "                        }\n",
    "                    } else {\n",
    "                        message(sprintf(\"Aucun bmd valide pour %s / CC2\", compound))\n",
    "                    }\n",
    "                } else {\n",
    "                    message(sprintf(\"Pas de données pour gene.id == 'CC2' dans %s\", compound))\n",
    "                }\n",
    "            }, error = function(e) {\n",
    "                message(sprintf(\"Error with compound %s: %s\", compound, e$message))\n",
    "            })  # <-- ici la parenthèse manquait\n",
    "        }\n",
    "    }\n",
    "}\n",
    "\n",
    "# Afficher les premiers résultats de results_df\n",
    "print(head(results_df))\n"
   ]
  },
  {
   "cell_type": "code",
   "execution_count": 5,
   "metadata": {
    "vscode": {
     "languageId": "r"
    }
   },
   "outputs": [
    {
     "name": "stdout",
     "output_type": "stream",
     "text": [
      "Processing compound: Cladribine \n",
      "Processing compound: Treprostinil \n",
      "Processing compound: Aminodarone Hydrochloride \n",
      "Processing compound: Actinomycin D \n",
      "Processing compound: MUPIROCIN \n",
      "Processing compound: Staurosporine \n",
      "Processing compound: 5,8,11-Eicosatriynoic acid \n",
      "Processing compound: Lys05 \n",
      "Processing compound: Nedocromil (sodium salt) \n",
      "Processing compound: Rifampicin \n",
      "Processing compound: Amperozide \n",
      "Processing compound: IOPANOIC ACID \n",
      "Processing compound: Triamcinolone acetonide \n",
      "Processing compound: Colistin Methanesulfonate (sodium salt) \n",
      "Processing compound: 5,6-benzoflavone \n",
      "Processing compound: Calcipotriol (hydrate) \n",
      "Processing compound: Cucurbitacin I \n",
      "Processing compound: Berberine chloride \n",
      "Processing compound: CLIOQUINOL \n",
      "Processing compound: PEMIROLAST POTASSIUM \n",
      "Processing compound: FCCP \n",
      "Processing compound: Bevirimat \n",
      "Processing compound: Natamycin \n",
      "Processing compound: Imiquimod \n",
      "Processing compound: MILTEFOSINE \n",
      "Processing compound: Cycloheximide \n",
      "Processing compound: Fluazinam \n",
      "Processing compound: Ethoxyquin \n",
      "  x Observations      f_x compound_name bmd bmd_l bmd_u\n",
      "1 0     5.527753 5.147394    Cladribine NaN   NaN   NaN\n",
      "2 0     3.328913 5.147394    Cladribine NaN   NaN   NaN\n",
      "3 0     5.387073 5.147394    Cladribine NaN   NaN   NaN\n",
      "4 0     6.543343 5.147394    Cladribine NaN   NaN   NaN\n",
      "5 0     6.188754 5.147394    Cladribine NaN   NaN   NaN\n",
      "6 0     7.784406 5.147394    Cladribine NaN   NaN   NaN\n"
     ]
    }
   ],
   "source": [
    "models <- c(\"Exp2\", \"Exp3\", \"Exp4\", \"Exp5\", \"Poly2\", \"Lin\", \"Power\", \"Hill\")\n",
    "ncpus <- 1  \n",
    "\n",
    "unique_compounds <- unique(df_cc$Metadata_Compound)\n",
    "feat_cols <- colnames(df_cc)[!grepl(\"Metadata\", colnames(df_cc))]\n",
    "\n",
    "res <- list()\n",
    "gene_table <- list()\n",
    "\n",
    "all_bmd_pass <- data.frame()\n",
    "results_df <- data.frame()\n",
    "\n",
    "for (compound in unique_compounds) {\n",
    "\n",
    "    compound_data <- df_cc[df_cc$Metadata_Compound %in% c(compound, \"DMSO\"), ]\n",
    "    dose <- compound_data$Metadata_Concentration\n",
    "    dose_log <- dose\n",
    "    dose_log[dose_log > 0] <- log10(dose_log[dose_log > 0])\n",
    "\n",
    "    rank_dose <- unique(dose) %>% sort(decreasing = TRUE)\n",
    "    dose_spacing <- abs(log10(rank_dose[2] / rank_dose[1]))\n",
    "    dose_shift <- abs(min(dose_log)) + dose_spacing\n",
    "\n",
    "    dose_shifted <- dose_log\n",
    "    dose_shifted[dose_shifted != 0] <- dose_shifted[dose_shifted != 0] + dose_shift\n",
    "\n",
    "    if (length(unique(compound_data$Metadata_Concentration)) > 2) {\n",
    "       \n",
    "        # for the negative values\n",
    "        mat <- t(compound_data[, feat_cols])\n",
    "        min_val <- abs(min(mat, na.rm = TRUE))\n",
    "        mat_shifted <- mat + min_val + 0.1 * min_val\n",
    "\n",
    "        if (length(dose_shifted) == ncol(mat_shifted)) {\n",
    "            cat(\"Processing compound:\", compound, \"\\n\")\n",
    "            \n",
    "            tryCatch({\n",
    "                fit <- PerformCurveFitting(data = mat_shifted, dose = dose_shifted, ncpus = ncpus, models = models)\n",
    "                fit_filtered <- FilterDRFit(fit, lof.pval = 0.1, filt.var = \"AIC.model\")\n",
    "                fit_final <- PerformBMDCalc(fit_filtered, ncpus = ncpus, num.sds = 2, bmr.method = \"sample.mean\", log10.dose = TRUE)\n",
    "\n",
    "                bmd_pass <- fit_final$bmd_res\n",
    "                bmd_pass <- bmd_pass[bmd_pass$gene.id == 'CC2', ]\n",
    "\n",
    "                if (nrow(bmd_pass) > 0) {\n",
    "                    bmd_pass_valid <- bmd_pass[bmd_pass$all.pass == TRUE, c(\"bmd\", \"bmdl\", \"bmdu\")]\n",
    "\n",
    "                    if (nrow(bmd_pass_valid) > 0) {\n",
    "                        plot_data <- plot_bmd_curve('CC2', fit_final, return_type = \"plot.data\")\n",
    "                        plot_data$compound_name <- compound\n",
    "\n",
    "                        for (i in 1:nrow(bmd_pass_valid)) {\n",
    "                            plot_data$bmd <- bmd_pass_valid$bmd[i]\n",
    "                            plot_data$bmd_l <- bmd_pass_valid$bmdl[i]\n",
    "                            plot_data$bmd_u <- bmd_pass_valid$bmdu[i]\n",
    "\n",
    "                            results_df <- rbind(results_df, plot_data)\n",
    "                        }\n",
    "                    } else {\n",
    "        \n",
    "                        plot_data <- plot_bmd_curve('CC2', fit_final, return_type = \"plot.data\")\n",
    "                        plot_data$compound_name <- compound\n",
    "                        plot_data$bmd <- NaN\n",
    "                        plot_data$bmd_l <- NaN\n",
    "                        plot_data$bmd_u <- NaN\n",
    "\n",
    "                        results_df <- rbind(results_df, plot_data)\n",
    "                    }\n",
    "                }\n",
    "            }, error = function(e) {\n",
    "                message(sprintf(\"Error with compound %s: %s\", compound, e$message))\n",
    "            })\n",
    "        }\n",
    "    }\n",
    "}\n",
    "\n",
    "# Afficher les premiers résultats de results_df\n",
    "print(head(results_df))\n"
   ]
  },
  {
   "cell_type": "code",
   "execution_count": 6,
   "metadata": {
    "vscode": {
     "languageId": "r"
    }
   },
   "outputs": [
    {
     "name": "stderr",
     "output_type": "stream",
     "text": [
      "Warning message:\n",
      "\"\u001b[1m\u001b[22mRemoved 2646 rows containing missing values or values outside the scale range\n",
      "(`geom_point()`).\"\n",
      "Warning message:\n",
      "\"\u001b[1m\u001b[22mRemoved 4368 rows containing missing values or values outside the scale range\n",
      "(`geom_vline()`).\"\n",
      "Warning message:\n",
      "\"\u001b[1m\u001b[22mRemoved 4368 rows containing missing values or values outside the scale range\n",
      "(`geom_vline()`).\"\n",
      "Warning message:\n",
      "\"\u001b[1m\u001b[22mRemoved 4368 rows containing missing values or values outside the scale range\n",
      "(`geom_vline()`).\"\n",
      "Warning message:\n",
      "\"\u001b[1m\u001b[22mRemoved 2646 rows containing missing values or values outside the scale range\n",
      "(`geom_point()`).\"\n",
      "Warning message:\n",
      "\"\u001b[1m\u001b[22mRemoved 4368 rows containing missing values or values outside the scale range\n",
      "(`geom_vline()`).\"\n",
      "Warning message:\n",
      "\"\u001b[1m\u001b[22mRemoved 4368 rows containing missing values or values outside the scale range\n",
      "(`geom_vline()`).\"\n",
      "Warning message:\n",
      "\"\u001b[1m\u001b[22mRemoved 4368 rows containing missing values or values outside the scale range\n",
      "(`geom_vline()`).\"\n",
      "Warning message:\n",
      "\"\u001b[1m\u001b[22mRemoved 2646 rows containing missing values or values outside the scale range\n",
      "(`geom_point()`).\"\n",
      "Warning message:\n",
      "\"\u001b[1m\u001b[22mRemoved 4368 rows containing missing values or values outside the scale range\n",
      "(`geom_vline()`).\"\n",
      "Warning message:\n",
      "\"\u001b[1m\u001b[22mRemoved 4368 rows containing missing values or values outside the scale range\n",
      "(`geom_vline()`).\"\n",
      "Warning message:\n",
      "\"\u001b[1m\u001b[22mRemoved 4368 rows containing missing values or values outside the scale range\n",
      "(`geom_vline()`).\"\n"
     ]
    },
    {
     "data": {
      "text/html": [
       "<strong>pdf:</strong> 2"
      ],
      "text/latex": [
       "\\textbf{pdf:} 2"
      ],
      "text/markdown": [
       "**pdf:** 2"
      ],
      "text/plain": [
       "pdf \n",
       "  2 "
      ]
     },
     "metadata": {},
     "output_type": "display_data"
    }
   ],
   "source": [
    "n_per_page <- 9  \n",
    "\n",
    "\n",
    "plot_groups_CC0 <- unique(results_df$compound_name)\n",
    "n_pages_CC0 <- ceiling(length(plot_groups_CC0) / n_per_page)\n",
    "\n",
    "\n",
    "pdf_file_CC0 <- \"./outputs/cc_norm_bmd_curves_all.pdf\"\n",
    "pdf(pdf_file_CC0, width = 15, height = 10)\n",
    "\n",
    "for (i in 1:n_pages_CC0) {\n",
    "  tryCatch({\n",
    "    p <- ggplot(results_df, aes(x = x, y = Observations)) +\n",
    "      geom_point(show.legend = FALSE) +\n",
    "      geom_line(aes(y = f_x), show.legend = FALSE) +\n",
    "      geom_vline(aes(xintercept = bmd), linetype = \"solid\", color = \"red\") +  \n",
    "      geom_vline(aes(xintercept = bmd_l), linetype = \"dashed\", color = \"red\") + \n",
    "      geom_vline(aes(xintercept = bmd_u), linetype = \"dashed\", color = \"red\") +  \n",
    "      facet_wrap_paginate(~compound_name, ncol = 3, nrow = 3, page = i, scales = \"free_y\") +\n",
    "      labs(title = sprintf(\"BMD curves - Normalized CC  - Page %d\", i),\n",
    "           x = \"Concentration\",\n",
    "           y = \"Observation\") +\n",
    "      theme_bw() +\n",
    "      theme(strip.text = element_text(size = 8))\n",
    "    \n",
    "    print(p) \n",
    "  }, error = function(e) {\n",
    "    message(sprintf(\"Error in the page %d : %s\", i, e$message))\n",
    "  })\n",
    "}\n",
    "\n",
    "dev.off()"
   ]
  }
 ],
 "metadata": {
  "kernelspec": {
   "display_name": "R",
   "language": "R",
   "name": "ir"
  },
  "language_info": {
   "codemirror_mode": "r",
   "file_extension": ".r",
   "mimetype": "text/x-r-source",
   "name": "R",
   "pygments_lexer": "r",
   "version": "4.4.3"
  }
 },
 "nbformat": 4,
 "nbformat_minor": 2
}
