{
 "cells": [
  {
   "cell_type": "markdown",
   "metadata": {},
   "source": [
    "## Curve fiting of proteins by dose "
   ]
  },
  {
   "cell_type": "markdown",
   "metadata": {},
   "source": [
    "In order to start plotting the curves, we made some modifications to the dose values:  \n",
    "\n",
    "- we transformed the doses to a logarithmic scale: `dose_log <- log10(dose)`  \n",
    "- we set the dose spacing to 1: `dose_spacing = 1`  \n",
    "- we shifted the dose values to ensure all were positive:  \n",
    "  `dose_shift = abs(min(dose_log)) + dose_spacing`  \n",
    "- finally, we applied the shift: `dose_log_shifted <- dose_log + dose_shift`  \n",
    "\n",
    "We then used the **fastbmdR** package on our **norm_signal** data, after filtering out proteins that had 100% missing values."
   ]
  },
  {
   "cell_type": "code",
   "execution_count": null,
   "metadata": {
    "vscode": {
     "languageId": "r"
    }
   },
   "outputs": [
    {
     "name": "stdout",
     "output_type": "stream",
     "text": [
      "\n",
      "Les packages binaires t'el'echarg'es sont dans\n",
      "\t/var/folders/s6/prvmffjx7bl2mwcbcpxy05ph0000gn/T//RtmpSpTsiO/downloaded_packages\n"
     ]
    }
   ],
   "source": [
    "install.packages(\"dplyr\")"
   ]
  },
  {
   "cell_type": "code",
   "execution_count": 15,
   "metadata": {
    "vscode": {
     "languageId": "r"
    }
   },
   "outputs": [
    {
     "name": "stdout",
     "output_type": "stream",
     "text": [
      "\n",
      "Les packages binaires t'el'echarg'es sont dans\n",
      "\t/var/folders/s6/prvmffjx7bl2mwcbcpxy05ph0000gn/T//RtmpSpTsiO/downloaded_packages\n"
     ]
    },
    {
     "name": "stderr",
     "output_type": "stream",
     "text": [
      "Using GitHub PAT from the git credential store.\n",
      "\n",
      "Skipping install of 'fastbmdR' from a github remote, the SHA1 (b3681861) has not changed since last install.\n",
      "  Use `force = TRUE` to force installation\n",
      "\n"
     ]
    }
   ],
   "source": [
    "install.packages(c(\"devtools\", \"remotes\"))\n",
    "\n",
    "devtools::install_github(\"jessica-ewald/fastbmdR\")"
   ]
  },
  {
   "cell_type": "code",
   "execution_count": 16,
   "metadata": {
    "vscode": {
     "languageId": "r"
    }
   },
   "outputs": [
    {
     "name": "stdout",
     "output_type": "stream",
     "text": [
      "\n",
      "Les packages binaires t'el'echarg'es sont dans\n",
      "\t/var/folders/s6/prvmffjx7bl2mwcbcpxy05ph0000gn/T//RtmpSpTsiO/downloaded_packages\n",
      "\n",
      "Les packages binaires t'el'echarg'es sont dans\n",
      "\t/var/folders/s6/prvmffjx7bl2mwcbcpxy05ph0000gn/T//RtmpSpTsiO/downloaded_packages\n"
     ]
    },
    {
     "name": "stderr",
     "output_type": "stream",
     "text": [
      "Using GitHub PAT from the git credential store.\n",
      "\n",
      "Skipping install of 'fastbmdR' from a github remote, the SHA1 (b3681861) has not changed since last install.\n",
      "  Use `force = TRUE` to force installation\n",
      "\n"
     ]
    }
   ],
   "source": [
    "install.packages('ggplot2')\n",
    "library(ggplot2)\n",
    "\n",
    "install.packages(\"drc\", dependencies = TRUE)\n",
    "\n",
    "devtools::install_github(\"jessica-ewald/fastbmdR\")\n"
   ]
  },
  {
   "cell_type": "code",
   "execution_count": 1,
   "metadata": {
    "vscode": {
     "languageId": "r"
    }
   },
   "outputs": [
    {
     "name": "stderr",
     "output_type": "stream",
     "text": [
      "\n",
      "Attachement du package : 'dplyr'\n",
      "\n",
      "\n",
      "Les objets suivants sont masqu'es depuis 'package:stats':\n",
      "\n",
      "    filter, lag\n",
      "\n",
      "\n",
      "Les objets suivants sont masqu'es depuis 'package:base':\n",
      "\n",
      "    intersect, setdiff, setequal, union\n",
      "\n",
      "\n"
     ]
    }
   ],
   "source": [
    "library(fastbmdR)\n",
    "library(dplyr)\n",
    "library(knitr)"
   ]
  },
  {
   "cell_type": "code",
   "execution_count": 15,
   "metadata": {
    "vscode": {
     "languageId": "r"
    }
   },
   "outputs": [
    {
     "name": "stdout",
     "output_type": "stream",
     "text": [
      "[1] \"Processing compound: Actinomycin D\"\n",
      "[1] \"Processing compound: Bevirimat\"\n",
      "[1] \"Processing compound: Ethoxyquin\"\n",
      "[1] \"Processing compound: Amperozide\"\n",
      "[1] \"Processing compound: IOPANOIC ACID\"\n",
      "[1] \"Processing compound: Treprostinil\"\n",
      "[1] \"Processing compound: MILTEFOSINE\"\n",
      "[1] \"Error with compound: MILTEFOSINE - ignoring this compound\"\n",
      "[1] \"Processing compound: Lys05\"\n",
      "[1] \"Processing compound: 5,8,11-Eicosatriynoic acid\"\n",
      "[1] \"Processing compound: Cycloheximide\"\n",
      "[1] \"Processing compound: CLIOQUINOL\"\n",
      "[1] \"Processing compound: Berberine chloride\"\n",
      "[1] \"Processing compound: Rifampicin\"\n"
     ]
    },
    {
     "name": "stderr",
     "output_type": "stream",
     "text": [
      "Warning message in log((c - (bmr/e))/(c - 1)):\n",
      "\"Production de NaN\"\n"
     ]
    },
    {
     "name": "stdout",
     "output_type": "stream",
     "text": [
      "[1] \"Processing compound: Cucurbitacin I\"\n",
      "[1] \"Processing compound: Triamcinolone acetonide\"\n",
      "[1] \"Processing compound: Imiquimod\"\n",
      "[1] \"Processing compound: MUPIROCIN\"\n",
      "[1] \"Processing compound: Nedocromil (sodium salt)\"\n",
      "[1] \"Processing compound: Staurosporine\"\n",
      "[1] \"Processing compound: Cladribine\"\n",
      "[1] \"Processing compound: 5,6-benzoflavone\"\n"
     ]
    },
    {
     "name": "stderr",
     "output_type": "stream",
     "text": [
      "Warning message in log((c - (bmr/e))/(c - 1)):\n",
      "\"Production de NaN\"\n"
     ]
    },
    {
     "name": "stdout",
     "output_type": "stream",
     "text": [
      "[1] \"Processing compound: Natamycin\"\n",
      "[1] \"Error with compound: Natamycin - ignoring this compound\"\n",
      "[1] \"Processing compound: FCCP\"\n",
      "[1] \"Processing compound: PEMIROLAST POTASSIUM\"\n",
      "[1] \"Processing compound: Calcipotriol (hydrate)\"\n",
      "[1] \"Processing compound: Aminodarone Hydrochloride\"\n",
      "[1] \"Processing compound: Colistin Methanesulfonate (sodium salt)\"\n",
      "[1] \"Processing compound: Fluazinam\"\n"
     ]
    }
   ],
   "source": [
    "df <- read.csv(\"./outputs/norm_signal_filtered.csv\", sep= ',')\n",
    "\n",
    "\n",
    "models <- c(\"Exp2\", \"Exp3\", \"Exp4\", \"Exp5\", \"Poly2\", \"Lin\", \"Power\", \"Hill\")\n",
    "\n",
    "ncpus <- 1  \n",
    "\n",
    "unique_compounds <- setdiff(unique(df$Metadata_Compound), c(\"UNTREATED\"))\n",
    "feat_cols =colnames(df)[!grepl(\"Metadata\", colnames(df))]\n",
    "res = list()\n",
    "gene_table <- list()\n",
    "\n",
    "for (compound in unique_compounds) \n",
    "{\n",
    "  compound_dt <- df[df$Metadata_Compound == compound, ]\n",
    "  dmso_data <- df[df$Metadata_Compound == \"DMSO\", ]\n",
    "  dmso_dose <- dmso_data$Metadata_Concentration\n",
    "\n",
    "  dose <- compound_dt$Metadata_Concentration\n",
    "  dose_log <- log10(dose)\n",
    "  dose_spacing = 1\n",
    "  dose_shift = abs(min(dose_log)) + dose_spacing\n",
    "\n",
    "  dose_log_shifted <- dose_log + dose_shift\n",
    "  dose_log_shifted_with_dmso <- c(dose_log_shifted, dmso_dose)\n",
    "  compound_data <- df[df$Metadata_Compound == compound | df$Metadata_Compound == \"DMSO\", ]\n",
    "\n",
    "  if (length(unique(compound_data$Metadata_Concentration)) > 2) \n",
    "  {  \n",
    "    \n",
    "    print(paste(\"Processing compound:\", compound))\n",
    "    dose <- dose_log_shifted_with_dmso\n",
    "    \n",
    "    compound_mat <- compound_data[, feat_cols]  \n",
    "    compound_mat = t(compound_mat)  \n",
    "    \n",
    "    min_val = abs(min(compound_mat, na.rm=TRUE))  \n",
    "    add_min = min_val + 0.1 * min_val  \n",
    "    mat_new = compound_mat + add_min  \n",
    "\n",
    "    \n",
    "    if (length(dose) == ncol(mat_new)) {  \n",
    "      tryCatch({\n",
    " \n",
    "        fit_obj <- PerformCurveFitting(data = mat_new, dose = dose, ncpus = ncpus, models = models)\n",
    "        \n",
    "        fit_obj <- FilterDRFit(fit_obj, lof.pval = 0.1, filt.var = \"AIC.model\")\n",
    "        \n",
    "\n",
    "        fit_obj <- PerformBMDCalc(fit_obj, ncpus = ncpus, num.sds = 2, bmr.method = \"sample.mean\", log10.dose = TRUE)\n",
    "        \n",
    "\n",
    "        bmd_res <- fit_obj$bmd_res\n",
    "        bmd_pass <- bmd_res[bmd_res$all.pass, ]\n",
    "        fit_obj$bmd_pass <- bmd_pass\n",
    "\n",
    "        res[[compound]] = fit_obj\n",
    "        \n",
    "        gene_ids <- res[[compound]][[\"bmd_pass\"]][[\"gene.id\"]]\n",
    "        bmd_values <- res[[compound]][[\"bmd_pass\"]][[\"bmd\"]]\n",
    "        gene_table[[compound]] <- data.frame(\n",
    "          gene_id = gene_ids,\n",
    "          bmd_value = bmd_values\n",
    "        )\n",
    "        \n",
    "        \n",
    "        #plot_bmd_curve(\"O00175\", res$compound)\n",
    "        \n",
    "        #print(paste(\"Results for compound:\", compound))\n",
    "        #print(bmd_pass)\n",
    "        \n",
    "      }, error = function(e) {\n",
    "        \n",
    "        print(paste(\"Error with compound:\", compound, \"- ignoring this compound\"))\n",
    "      })\n",
    "    }\n",
    "  }  \n",
    "}\n",
    "\n"
   ]
  },
  {
   "cell_type": "code",
   "execution_count": null,
   "metadata": {
    "vscode": {
     "languageId": "r"
    }
   },
   "outputs": [
    {
     "data": {
      "text/plain": [
       "\n",
       "\n",
       "|gene_id | bmd_value|compound_name | Concentration|\n",
       "|:-------|---------:|:-------------|-------------:|\n",
       "|P04141  |  5.290310|Actinomycin D |      292.6858|\n",
       "|P12645  |  5.263819|Actinomycin D |      275.3657|\n",
       "|P39900  |  5.233620|Actinomycin D |      256.8690|\n",
       "|P49767  |  5.231685|Actinomycin D |      255.7270|\n",
       "|P60568  |  5.264667|Actinomycin D |      275.9044|\n",
       "|Q03167  |  5.227861|Actinomycin D |      253.4847|"
      ]
     },
     "metadata": {},
     "output_type": "display_data"
    }
   ],
   "source": [
    "## we can now create a table with the protein ids that has a response and their corresponding compound names # nolint\n",
    " \n",
    "gene_df <- do.call(rbind, lapply(names(gene_table), function(compound) {  \n",
    "  gene_data <- gene_table[[compound]]  # Récupérer le data.frame\n",
    "  \n",
    "  if (!is.null(gene_data) && nrow(gene_data) > 0) {  \n",
    "    return(data.frame(\n",
    "      gene_id = gene_data$gene_id,\n",
    "      bmd_value = gene_data$bmd_value,\n",
    "      compound_name = compound,\n",
    "      stringsAsFactors = FALSE\n",
    "    ))\n",
    "  } else {  \n",
    "    return(NULL)  \n",
    "  }  \n",
    "}))\n",
    "\n",
    "## we calcule the actual concentration of the bmd value\n",
    "\n",
    "\n",
    "gene_df$Concentration <- NA\n",
    "\n",
    "for (i in 1:nrow(gene_df)) \n",
    "{\n",
    "  compound <- gene_df$compound_name[i] \n",
    "  bmd_value <- gene_df$bmd_value[i]  \n",
    "\n",
    "  compound_dt <- df[df$Metadata_Compound == compound, ]\n",
    "  \n",
    "  dose <- compound_dt$Metadata_Concentration\n",
    "  \n",
    "  dose_shift <- abs(min(log10(dose))) + 1\n",
    "  \n",
    "  recovered_concentration <- 10^(bmd_value - dose_shift)\n",
    "  \n",
    "  gene_df$Concentration[i] <- recovered_concentration\n",
    "}\n",
    "\n",
    "\n",
    "\n",
    "\n",
    "kable(head(gene_df))"
   ]
  },
  {
   "cell_type": "code",
   "execution_count": 6,
   "metadata": {
    "vscode": {
     "languageId": "r"
    }
   },
   "outputs": [
    {
     "data": {
      "text/plain": [
       "\n",
       "\n",
       "|  x| Observations|       f_x|protein |compound      |\n",
       "|--:|------------:|---------:|:-------|:-------------|\n",
       "|  0|    0.1938238| 0.1930744|P04141  |Actinomycin D |\n",
       "|  0|    0.1969728| 0.1930744|P04141  |Actinomycin D |\n",
       "|  0|    0.1887979| 0.1930744|P04141  |Actinomycin D |\n",
       "|  0|    0.1924886| 0.1930744|P04141  |Actinomycin D |\n",
       "|  0|    0.1884608| 0.1930744|P04141  |Actinomycin D |\n",
       "|  0|    0.1857967| 0.1930744|P04141  |Actinomycin D |"
      ]
     },
     "metadata": {},
     "output_type": "display_data"
    }
   ],
   "source": [
    "list_plot <- list()  \n",
    "\n",
    "for (i in 1:nrow(gene_df)) {  \n",
    "  tryCatch({\n",
    "    gene_id <- gene_df$gene_id[i]\n",
    "    compound <- gene_df$compound_name[i]\n",
    "    \n",
    "    temp <- plot_bmd_curve(gene_id, res[[compound]]  , return_type = \"plot.data\")\n",
    "    \n",
    "    temp$protein <- gene_id\n",
    "    temp$compound <- compound\n",
    "    \n",
    "    list_plot[[i]] <- temp\n",
    "  }, error = function(e) {\n",
    "    message(sprintf(\"Erreur pour gene_id %s et compound %s : %s\", gene_id, compound, e$message))\n",
    "  })\n",
    "}\n",
    "\n",
    "final_df <- do.call(rbind, list_plot)\n",
    "\n",
    "kable(head(final_df))\n",
    "\n",
    "\n"
   ]
  },
  {
   "cell_type": "code",
   "execution_count": 31,
   "metadata": {
    "vscode": {
     "languageId": "r"
    }
   },
   "outputs": [
    {
     "name": "stderr",
     "output_type": "stream",
     "text": [
      "Warning message:\n",
      "\"\u001b[1m\u001b[22mRemoved 4018 rows containing missing values or values outside the scale range\n",
      "(`geom_point()`).\"\n"
     ]
    },
    {
     "data": {
      "text/html": [
       "<strong>pdf:</strong> 2"
      ],
      "text/latex": [
       "\\textbf{pdf:} 2"
      ],
      "text/markdown": [
       "**pdf:** 2"
      ],
      "text/plain": [
       "pdf \n",
       "  2 "
      ]
     },
     "metadata": {},
     "output_type": "display_data"
    }
   ],
   "source": [
    "library(ggplot2)\n",
    "library(ggforce)  # Pour facet_wrap_paginate\n",
    "\n",
    "plot_results <- final_df \n",
    "n_cols <- 5\n",
    "n_rows <- 5\n",
    "n_per_page <- n_cols * n_rows\n",
    "pdf_w <- 12\n",
    "pdf_h <- 10\n",
    "\n",
    "compounds <- unique(plot_results$compound)\n",
    "n_pages <- ceiling(length(compounds) / n_per_page)\n",
    "\n",
    "pdf(\"plot_results.pdf\", width = pdf_w, height = pdf_h)\n",
    "for (i in 1:n_pages) {\n",
    "  tryCatch({\n",
    "    p <- ggplot(plot_results, aes(x = x)) +\n",
    "      geom_point(aes(y = Observations), color = \"black\", alpha = 0.5) +  # Points expérimentaux\n",
    "      geom_line(aes(y = f_x), color = \"blue\") +  # Courbe prédite\n",
    "      facet_wrap_paginate(~ compound, ncol = n_cols, nrow = n_rows, page = i, scales = \"free_y\") +\n",
    "      theme_bw() +\n",
    "      theme(strip.text = element_text(size = 6))\n",
    "\n",
    "    print(p)\n",
    "  }, error = function(e) {\n",
    "    message(sprintf(\"Error in plotting page %d: %s\", i, e$message))\n",
    "  })\n",
    "}\n",
    "dev.off()\n"
   ]
  },
  {
   "cell_type": "code",
   "execution_count": null,
   "metadata": {
    "vscode": {
     "languageId": "r"
    }
   },
   "outputs": [],
   "source": [
    "library(gridExtra)\n",
    "\n",
    "gridExtra::grid.arrange(grobs = plot_list, ncol = 3)\n"
   ]
  },
  {
   "cell_type": "code",
   "execution_count": null,
   "metadata": {
    "vscode": {
     "languageId": "r"
    }
   },
   "outputs": [],
   "source": [
    "for (i in 1:nrow(gene_df)) {\n",
    "  tryCatch({\n",
    "    gene_id <- gene_df$gene_id[i]\n",
    "    compound <- gene_df$compound_name[i]\n",
    "\n",
    "\n",
    "    temp <- plot_bmd_curve(gene_id, res[[compound]])\n",
    "    print(temp)  \n",
    "\n",
    "  }, error = function(e) {\n",
    "    message(sprintf(\"Erreur pour gene_id %s et compound %s : %s\", gene_id, compound, e$message))\n",
    "  })\n",
    "}\n"
   ]
  }
 ],
 "metadata": {
  "kernelspec": {
   "display_name": "R",
   "language": "R",
   "name": "ir"
  },
  "language_info": {
   "codemirror_mode": "r",
   "file_extension": ".r",
   "mimetype": "text/x-r-source",
   "name": "R",
   "pygments_lexer": "r",
   "version": "4.4.3"
  }
 },
 "nbformat": 4,
 "nbformat_minor": 2
}
