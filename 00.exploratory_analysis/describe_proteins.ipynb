{
 "cells": [
  {
   "cell_type": "markdown",
   "id": "10921954",
   "metadata": {},
   "source": [
    "# Map Uniprot IDs to gene symbols"
   ]
  },
  {
   "cell_type": "code",
   "execution_count": 74,
   "id": "e1cbf595",
   "metadata": {},
   "outputs": [],
   "source": [
    "import polars as pl\n",
    "import pandas as pd\n",
    "from biomart import BiomartServer"
   ]
  },
  {
   "cell_type": "code",
   "execution_count": 75,
   "id": "92ff4894",
   "metadata": {},
   "outputs": [],
   "source": [
    "ids = pl.read_csv(\"./inputs/proteomics_data/protein_metadata.txt\", separator=\"\\t\")\n",
    "uniprot_ids = ids.select(\"uniprot_id\").to_series().unique().to_list()"
   ]
  },
  {
   "cell_type": "code",
   "execution_count": 76,
   "id": "83428e8f",
   "metadata": {},
   "outputs": [],
   "source": [
    "# Connect to the BioMart server and dataset\n",
    "server = BiomartServer(\"http://www.ensembl.org/biomart/martservice\")\n",
    "mart = server.datasets['hsapiens_gene_ensembl']\n",
    "\n",
    "# Define the attributes to retrieve\n",
    "attributes = [\n",
    "    'uniprotswissprot',     # UniProt ID (SwissProt)\n",
    "    'external_gene_name',   # Gene symbol\n",
    "    'ensembl_gene_id'       # Optional: Ensembl Gene ID\n",
    "]\n",
    "\n",
    "batch_size = 100\n",
    "results = []\n",
    "\n",
    "# Query BioMart in batches\n",
    "for i in range(0, len(uniprot_ids), batch_size):\n",
    "    batch = uniprot_ids[i:i + batch_size]\n",
    "    \n",
    "    filters = {\n",
    "        'uniprotswissprot': batch\n",
    "    }\n",
    "    \n",
    "    try:\n",
    "        response = mart.search({\"attributes\": attributes, \"filters\": filters})\n",
    "        data = [line.decode(\"utf-8\").split(\"\\t\") for line in response.iter_lines()]\n",
    "        df_batch = pl.DataFrame(pd.DataFrame(data))\n",
    "        df_batch.columns = [\"uniprot_id\", \"gene_symbol\", \"ensembl_gene_id\"]\n",
    "        results.append(df_batch)\n",
    "    except Exception as e:\n",
    "        print(f\"Batch {i//batch_size + 1} failed: {e}\")\n",
    "\n",
    "# Combine all results\n",
    "all_gene_symbols = pl.concat(results)"
   ]
  },
  {
   "cell_type": "code",
   "execution_count": 77,
   "id": "cab0690f",
   "metadata": {},
   "outputs": [],
   "source": [
    "unique_gene_symbols = all_gene_symbols.unique(subset=[\"uniprot_id\"], keep=\"first\")\n",
    "ids = ids.join(unique_gene_symbols, on=\"uniprot_id\", how=\"left\")\n",
    "ids.write_csv(\"./outputs/gene_ids.csv\")\n",
    "\n",
    "# NOTE: we looked for interesting patterns in these proteins by uploading them to enrichr"
   ]
  },
  {
   "cell_type": "markdown",
   "id": "82205acf",
   "metadata": {},
   "source": [
    "## Get subcellular locations from Human Protein Atlas"
   ]
  },
  {
   "cell_type": "code",
   "execution_count": 78,
   "id": "e4d8125c",
   "metadata": {},
   "outputs": [],
   "source": [
    "hpa = pl.DataFrame(pd.read_table(\"./inputs/external_annotations/hpa_subcellular_location.tsv\", sep=\"\\t\")).rename({\n",
    "    \"Gene\": \"ensembl_gene_id\"\n",
    "})\n",
    "hpa = ids.join(hpa, on=\"ensembl_gene_id\", how=\"left\")\n",
    "hpa.write_csv(\"./outputs/proteins_hpa.csv\")"
   ]
  },
  {
   "cell_type": "markdown",
   "id": "a439df80",
   "metadata": {},
   "source": [
    "## Determine which proteins are expressed in HepaRG"
   ]
  },
  {
   "cell_type": "code",
   "execution_count": 79,
   "id": "661465ec",
   "metadata": {},
   "outputs": [],
   "source": [
    "# Process data\n",
    "counts = pl.read_csv(\"./inputs/external_transcriptomics/GSE288929_httr_atlas_counts.csv\")\n",
    "\n",
    "probes = pl.read_csv(\"./inputs/external_transcriptomics/GSE288929_httr_atlas_probes.csv\").select([\n",
    "    \"Probe_Name\", \"Ensembl_Gene\"\n",
    "]).rename({\"Ensembl_Gene\": \"ensembl_gene_id\", \"Probe_Name\": \"Probe_ID\"})\n",
    "\n",
    "meta = pl.read_csv(\"./inputs/external_transcriptomics/metadata.csv\").with_columns(\n",
    "    pl.concat_str([\"Plate\", \"Well\"], separator=\"_\").alias(\"Sample_ID\")\n",
    ")\n",
    "\n",
    "# Annotate counts with Ensembl gene ids\n",
    "counts = counts.join(probes, on=\"Probe_ID\").drop(\"Probe_ID\")"
   ]
  },
  {
   "cell_type": "code",
   "execution_count": 80,
   "id": "d14f43e8",
   "metadata": {},
   "outputs": [],
   "source": [
    "heparg_samples = meta.filter(pl.col(\"Cell_line\") == \"HepaRG\").select(\"Sample_ID\").to_series().to_list()"
   ]
  },
  {
   "cell_type": "code",
   "execution_count": 84,
   "id": "31dc42c0",
   "metadata": {},
   "outputs": [],
   "source": [
    "heparg_counts = counts.select([\"ensembl_gene_id\"] + heparg_samples).filter(~pl.col(\"ensembl_gene_id\").is_null())\n",
    "heparg_counts = heparg_counts.filter(pl.col(\"ensembl_gene_id\").is_in(ids.select(\"ensembl_gene_id\").to_series().to_list()))\n",
    "heparg_counts = (\n",
    "    heparg_counts.group_by(\"ensembl_gene_id\")\n",
    "    .mean()\n",
    "    .sort(\"ensembl_gene_id\")\n",
    ")"
   ]
  },
  {
   "cell_type": "code",
   "execution_count": 82,
   "id": "f0c0908b",
   "metadata": {},
   "outputs": [],
   "source": [
    "heparg_stats = heparg_counts.unpivot(\n",
    "    index = \"ensembl_gene_id\"\n",
    ").group_by(\"ensembl_gene_id\").agg([\n",
    "    pl.col(\"value\").mean().alias(\"mean_counts\"),\n",
    "    pl.col(\"value\").std().alias(\"std_counts\")\n",
    "]).sort(\"mean_counts\", descending=True)\n",
    "\n",
    "heparg_stats.write_csv(\"./outputs/nomics_mrna_counts.csv\")"
   ]
  },
  {
   "cell_type": "code",
   "execution_count": 83,
   "id": "4c6c768b",
   "metadata": {},
   "outputs": [
    {
     "data": {
      "image/png": "[encoded data removed]",
      "text/plain": [
       "<Figure size 800x600 with 1 Axes>"
      ]
     },
     "metadata": {},
     "output_type": "display_data"
    }
   ],
   "source": [
    "import matplotlib.pyplot as plt\n",
    "import numpy as np\n",
    "\n",
    "tick_dict = {\n",
    "    0: '0',\n",
    "    1: '10',\n",
    "    2: '100',\n",
    "    3: '1000',\n",
    "    4: '10 000',\n",
    "}\n",
    "\n",
    "log10_counts = np.log10(heparg_stats.select(\"mean_counts\").to_numpy() + 1)\n",
    "plt.figure(figsize=(8, 6))\n",
    "plt.hist(log10_counts, bins=50, color=\"skyblue\", edgecolor=\"black\")\n",
    "plt.xlabel(\"mRNA counts\")\n",
    "plt.ylabel(\"Frequency\")\n",
    "plt.title(\"mRNA counts of Nomic proteins in HepaRG\")\n",
    "\n",
    "current_ticks = plt.gca().get_xticks()\n",
    "major_ticks = [tick for tick in current_ticks if tick in tick_dict]\n",
    "plt.xticks(major_ticks, [tick_dict.get(int(tick), str(int(tick))) for tick in major_ticks])\n",
    "\n",
    "plt.tight_layout()\n",
    "plt.show()"
   ]
  }
 ],
 "metadata": {
  "kernelspec": {
   "display_name": "ppi",
   "language": "python",
   "name": "python3"
  },
  "language_info": {
   "codemirror_mode": {
    "name": "ipython",
    "version": 3
   },
   "file_extension": ".py",
   "mimetype": "text/x-python",
   "name": "python",
   "nbconvert_exporter": "python",
   "pygments_lexer": "ipython3",
   "version": "3.11.11"
  }
 },
 "nbformat": 4,
 "nbformat_minor": 5
}
